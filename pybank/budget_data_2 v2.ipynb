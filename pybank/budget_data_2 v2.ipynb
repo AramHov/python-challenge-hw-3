{
 "cells": [
  {
   "cell_type": "code",
   "execution_count": 1,
   "metadata": {},
   "outputs": [
    {
     "name": "stdout",
     "output_type": "stream",
     "text": [
      " \n",
      "Financial Summary\n",
      "----------------------------------------\n",
      "Total Revenue:  36973911\n",
      "Minimum Revenue:  -1063151\n",
      "Maximum Revenue:  1141606\n",
      "Total Number of Transactions:  86\n",
      "Average:  429929.1976744186\n",
      "Month and year of the maximum revenue:  Mar-2012\n",
      "Month and year of the minimim revenue:  Sep-2010\n"
     ]
    }
   ],
   "source": [
    "import os, csv, sys\n",
    "csvpath = os.path.join('budget_data_2.csv')\n",
    "\n",
    "with open(csvpath) as f:\n",
    "    readcsv = csv.reader(f, delimiter=',')\n",
    "\n",
    "    next(readcsv)\n",
    "    revenue_list = [int(row[1]) for row in readcsv]\n",
    "    revenue_total = sum(revenue_list)\n",
    "\n",
    "    f.seek(0)\n",
    "    next(readcsv)\n",
    "    transaction_list = [row[0] for row in readcsv]\n",
    "\n",
    "   \n",
    "    print(\" \")\n",
    "    print(\"Financial Summary\")\n",
    "    print(\"----------------------------------------\")\n",
    "    print(\"Total Revenue: \", revenue_total)\n",
    "    print(\"Minimum Revenue: \", min(revenue_list))\n",
    "    print(\"Maximum Revenue: \", max(revenue_list))\n",
    "    print(\"Total Number of Transactions: \", len(transaction_list))\n",
    "    print(\"Average: \", float(int(revenue_total)/int(len(transaction_list))))\n",
    "    print(\"Month and year of the maximum revenue: \", transaction_list[revenue_list.index(max(revenue_list))])\n",
    "    print(\"Month and year of the minimim revenue: \", transaction_list[revenue_list.index(min(revenue_list))])\n",
    "\n",
    "    original_stdout = sys.stdout\n",
    "    fileoutput = open(\"budget_data_2_summary.txt\", \"w\")\n",
    "    sys.stdout = fileoutput\n",
    "\n",
    "    print(\" \")\n",
    "    print(\"Financial Summary\")\n",
    "    print(\"----------------------------------------\")\n",
    "    print(\"Total Revenue: \", revenue_total)\n",
    "    print(\"Minimum Revenue: \", min(revenue_list))\n",
    "    print(\"Maximum Revenue: \", max(revenue_list))\n",
    "    print(\"Total Number of Transactions: \", len(transaction_list))\n",
    "    print(\"Average: \", float(int(revenue_total)/int(len(transaction_list))))\n",
    "    print(\"Month and year of the maximum revenue: \", transaction_list[revenue_list.index(max(revenue_list))])\n",
    "    print(\"Month and year of the minimim revenue: \", transaction_list[revenue_list.index(min(revenue_list))])\n",
    "\n",
    "    sys.stdout = original_stdout\n",
    "    fileoutput.close()"
   ]
  },
  {
   "cell_type": "code",
   "execution_count": null,
   "metadata": {
    "collapsed": true
   },
   "outputs": [],
   "source": []
  }
 ],
 "metadata": {
  "kernelspec": {
   "display_name": "Python 3",
   "language": "python",
   "name": "python3"
  },
  "language_info": {
   "codemirror_mode": {
    "name": "ipython",
    "version": 3
   },
   "file_extension": ".py",
   "mimetype": "text/x-python",
   "name": "python",
   "nbconvert_exporter": "python",
   "pygments_lexer": "ipython3",
   "version": "3.6.3"
  }
 },
 "nbformat": 4,
 "nbformat_minor": 2
}
